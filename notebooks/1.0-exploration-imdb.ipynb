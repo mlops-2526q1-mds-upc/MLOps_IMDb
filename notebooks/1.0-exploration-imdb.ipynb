{
  "cells": [
    {
      "cell_type": "markdown",
      "metadata": {},
      "source": [
        "# IMDb Sentiment Analysis - Exploratory Notebook\n",
        "\n",
        "**Objective:** Understand the dataset and freeze decisions before industrialization (DVC/MLflow).\n",
        "\n",
        "**Expected outputs:**\n",
        "- Data integrity findings\n",
        "- Documented choices (metrics, thresholds, seed, split)\n",
        "- Deterministic split saved\n",
        "- Baseline to set success threshold\n",
        "- Preprocessing draft to reimplement in scripts\n"
      ]
    },
    {
      "cell_type": "code",
      "execution_count": 26,
      "metadata": {},
      "outputs": [],
      "source": [
        "import pandas as pd\n",
        "import numpy as np\n",
        "import matplotlib.pyplot as plt\n",
        "import seaborn as sns\n",
        "from pathlib import Path\n",
        "\n",
        "sns.set_style('whitegrid')\n",
        "pd.set_option('display.max_colwidth', 100)\n"
      ]
    },
    {
      "cell_type": "markdown",
      "metadata": {},
      "source": [
        "## 1. Data Integrity Verification\n",
        "\n",
        "Objectives:\n",
        "- Dataset size and structure\n",
        "- Missing values\n",
        "- Duplicates\n",
        "- Data types\n"
      ]
    },
    {
      "cell_type": "code",
      "execution_count": 27,
      "metadata": {},
      "outputs": [
        {
          "name": "stdout",
          "output_type": "stream",
          "text": [
            "Train shape: (25000, 2)\n",
            "Test shape: (25000, 2)\n",
            "\n",
            "Train columns: ['text', 'label']\n",
            "\n",
            "Train dtypes:\n",
            "text     object\n",
            "label     int64\n",
            "dtype: object\n"
          ]
        }
      ],
      "source": [
        "# Load raw data\n",
        "train = pd.read_csv(\"../data/raw/imdb_train.csv\")\n",
        "test = pd.read_csv(\"../data/raw/imdb_test.csv\")\n",
        "\n",
        "print(f\"Train shape: {train.shape}\")\n",
        "print(f\"Test shape: {test.shape}\")\n",
        "print(f\"\\nTrain columns: {train.columns.tolist()}\")\n",
        "print(f\"\\nTrain dtypes:\\n{train.dtypes}\")\n"
      ]
    },
    {
      "cell_type": "code",
      "execution_count": 28,
      "metadata": {},
      "outputs": [
        {
          "name": "stdout",
          "output_type": "stream",
          "text": [
            "Missing values in train:\n",
            "text     0\n",
            "label    0\n",
            "dtype: int64\n",
            "\n",
            "Missing values in test:\n",
            "text     0\n",
            "label    0\n",
            "dtype: int64\n"
          ]
        }
      ],
      "source": [
        "# Missing values\n",
        "print(\"Missing values in train:\")\n",
        "print(train.isnull().sum())\n",
        "print(f\"\\nMissing values in test:\")\n",
        "print(test.isnull().sum())\n"
      ]
    },
    {
      "cell_type": "code",
      "execution_count": 29,
      "metadata": {},
      "outputs": [
        {
          "name": "stdout",
          "output_type": "stream",
          "text": [
            "Duplicate rows in train: 96\n",
            "Duplicate rows in test: 199\n",
            "\n",
            "Duplicate texts in train: 96\n",
            "Duplicate texts in test: 199\n"
          ]
        }
      ],
      "source": [
        "# Duplicates\n",
        "train_duplicates = train.duplicated().sum()\n",
        "test_duplicates = test.duplicated().sum()\n",
        "print(f\"Duplicate rows in train: {train_duplicates}\")\n",
        "print(f\"Duplicate rows in test: {test_duplicates}\")\n",
        "\n",
        "# Duplicate texts (same review, different label?)\n",
        "train_text_duplicates = train['text'].duplicated().sum()\n",
        "test_text_duplicates = test['text'].duplicated().sum()\n",
        "print(f\"\\nDuplicate texts in train: {train_text_duplicates}\")\n",
        "print(f\"Duplicate texts in test: {test_text_duplicates}\")\n"
      ]
    },
    {
      "cell_type": "code",
      "execution_count": 30,
      "metadata": {},
      "outputs": [
        {
          "name": "stdout",
          "output_type": "stream",
          "text": [
            "Sample positive review:\n",
            "Zentropa has much in common with The Third Man, another noir-like film set among the rubble of postwar Europe. Like TTM, there is much inventive camera work. There is an innocent American who gets emotionally involved with a woman he doesn't really understand, and whose naivety is all the more strik\n",
            "\n",
            "==================================================\n",
            "\n",
            "Sample negative review:\n",
            "I rented I AM CURIOUS-YELLOW from my video store because of all the controversy that surrounded it when it was first released in 1967. I also heard that at first it was seized by U.S. customs if it ever tried to enter this country, therefore being a fan of films considered \"controversial\" I really h\n"
          ]
        }
      ],
      "source": [
        "# Sample data\n",
        "print(\"Sample positive review:\")\n",
        "print(train[train['label'] == 1]['text'].iloc[0][:300])\n",
        "print(\"\\n\" + \"=\"*50 + \"\\n\")\n",
        "print(\"Sample negative review:\")\n",
        "print(train[train['label'] == 0]['text'].iloc[0][:300])\n"
      ]
    },
    {
      "cell_type": "markdown",
      "metadata": {},
      "source": [
        "### Findings - Data Integrity\n",
        "\n",
        "- Number of samples: train=25000, test=25000\n",
        "- Missing values: train=0, test=0\n",
        "- Duplicate rows: train=96, test=199\n",
        "- Duplicate texts: train=96, test=199\n",
        "- Columns: text (str), label (int)\n",
        "- Labels: 0=negative, 1=positive\n",
        "\n",
        "**Policy:** keep duplicates for baseline; revisit during pipeline.\n"
      ]
    },
    {
      "cell_type": "markdown",
      "metadata": {},
      "source": [
        "## 2. Distribution Analysis\n",
        "\n",
        "Objectives:\n",
        "- Label distribution (balanced?)\n",
        "- Text length\n",
        "- Obvious outliers\n"
      ]
    },
    {
      "cell_type": "code",
      "execution_count": 31,
      "metadata": {},
      "outputs": [
        {
          "data": {
            "image/png": "[encoded data removed]",
            "text/plain": [
              "<Figure size 1200x400 with 2 Axes>"
            ]
          },
          "metadata": {},
          "output_type": "display_data"
        },
        {
          "name": "stdout",
          "output_type": "stream",
          "text": [
            "Train label distribution:\n",
            "label\n",
            "0    0.5\n",
            "1    0.5\n",
            "Name: proportion, dtype: float64\n",
            "\n",
            "Test label distribution:\n",
            "label\n",
            "0    0.5\n",
            "1    0.5\n",
            "Name: proportion, dtype: float64\n"
          ]
        }
      ],
      "source": [
        "# Label distribution\n",
        "fig, axes = plt.subplots(1, 2, figsize=(12, 4))\n",
        "\n",
        "train['label'].value_counts().plot(kind='bar', ax=axes[0], title='Train Label Distribution')\n",
        "axes[0].set_xlabel('Label')\n",
        "axes[0].set_ylabel('Count')\n",
        "\n",
        "test['label'].value_counts().plot(kind='bar', ax=axes[1], title='Test Label Distribution')\n",
        "axes[1].set_xlabel('Label')\n",
        "axes[1].set_ylabel('Count')\n",
        "\n",
        "plt.tight_layout()\n",
        "plt.savefig('../reports/figures/label_distribution.png', dpi=150, bbox_inches='tight')\n",
        "plt.show()\n",
        "\n",
        "print(f\"Train label distribution:\")\n",
        "print(train['label'].value_counts(normalize=True))\n",
        "print(f\"\\nTest label distribution:\")\n",
        "print(test['label'].value_counts(normalize=True))\n"
      ]
    },
    {
      "cell_type": "code",
      "execution_count": 32,
      "metadata": {},
      "outputs": [
        {
          "name": "stdout",
          "output_type": "stream",
          "text": [
            "Text length statistics (train):\n",
            "count    25000.00000\n",
            "mean      1325.06964\n",
            "std       1003.13367\n",
            "min         52.00000\n",
            "25%        702.00000\n",
            "50%        979.00000\n",
            "75%       1614.00000\n",
            "max      13704.00000\n",
            "Name: text_length, dtype: float64\n",
            "\n",
            "Text length by label (train):\n",
            "label\n",
            "0    1302.97904\n",
            "1    1347.16024\n",
            "Name: text_length, dtype: float64\n"
          ]
        }
      ],
      "source": [
        "# Text length analysis\n",
        "train['text_length'] = train['text'].str.len()\n",
        "test['text_length'] = test['text'].str.len()\n",
        "\n",
        "print(\"Text length statistics (train):\")\n",
        "print(train['text_length'].describe())\n",
        "\n",
        "print(\"\\nText length by label (train):\")\n",
        "print(train.groupby('label')['text_length'].mean())\n"
      ]
    },
    {
      "cell_type": "code",
      "execution_count": 33,
      "metadata": {},
      "outputs": [
        {
          "data": {
            "image/png": "[encoded data removed]",
            "text/plain": [
              "<Figure size 1400x400 with 2 Axes>"
            ]
          },
          "metadata": {},
          "output_type": "display_data"
        }
      ],
      "source": [
        "# Text length distribution\n",
        "fig, axes = plt.subplots(1, 2, figsize=(14, 4))\n",
        "\n",
        "axes[0].hist(train['text_length'], bins=50, alpha=0.7, edgecolor='black')\n",
        "axes[0].set_title('Train Text Length Distribution')\n",
        "axes[0].set_xlabel('Text Length (characters)')\n",
        "axes[0].set_ylabel('Count')\n",
        "axes[0].axvline(train['text_length'].median(), color='red', linestyle='--', label=f'Median={train[\"text_length\"].median():.0f}')\n",
        "axes[0].legend()\n",
        "\n",
        "train.boxplot(column='text_length', by='label', ax=axes[1])\n",
        "axes[1].set_title('Text Length by Label')\n",
        "axes[1].set_xlabel('Label')\n",
        "axes[1].set_ylabel('Text Length (characters)')\n",
        "\n",
        "plt.suptitle('')\n",
        "plt.tight_layout()\n",
        "plt.savefig('../reports/figures/text_length_distribution.png', dpi=150, bbox_inches='tight')\n",
        "plt.show()\n"
      ]
    },
    {
      "cell_type": "code",
      "execution_count": 34,
      "metadata": {},
      "outputs": [
        {
          "name": "stdout",
          "output_type": "stream",
          "text": [
            "Number of outliers: 1840 (7.36%)\n",
            "Outliers length range: [2983, 13704]\n"
          ]
        }
      ],
      "source": [
        "# Outliers detection\n",
        "q1 = train['text_length'].quantile(0.25)\n",
        "q3 = train['text_length'].quantile(0.75)\n",
        "iqr = q3 - q1\n",
        "lower_bound = q1 - 1.5 * iqr\n",
        "upper_bound = q3 + 1.5 * iqr\n",
        "\n",
        "outliers = train[(train['text_length'] < lower_bound) | (train['text_length'] > upper_bound)]\n",
        "print(f\"Number of outliers: {len(outliers)} ({len(outliers)/len(train)*100:.2f}%)\")\n",
        "print(f\"Outliers length range: [{outliers['text_length'].min()}, {outliers['text_length'].max()}]\")\n"
      ]
    },
    {
      "cell_type": "markdown",
      "metadata": {},
      "source": [
        "### Findings - Distribution\n",
        "\n",
        "- Balanced dataset: train=50%/50%, test=50%/50%\n",
        "- Average text length (train): mean=1325.07, median=979, std=1003.13, min=52, max=13704\n",
        "- Text length by label (train): label 0 → 1302.98; label 1 → 1347.16\n",
        "- Outliers (IQR rule): 1840 reviews (7.36%), length range [2983, 13704]\n"
      ]
    },
    {
      "cell_type": "markdown",
      "metadata": {},
      "source": [
        "## 3. Naive Baseline\n",
        "\n",
        "Objective: Set a measurable success threshold\n",
        "\n",
        "Approach:\n",
        "1. Majority baseline (always predict the most frequent class)\n",
        "2. Simple TF-IDF + Logistic Regression baseline\n"
      ]
    },
    {
      "cell_type": "code",
      "execution_count": 35,
      "metadata": {},
      "outputs": [
        {
          "name": "stdout",
          "output_type": "stream",
          "text": [
            "Baseline 1: Majority Class Classifier\n",
            "Predicts always: 0\n",
            "Accuracy: 0.5000\n",
            "F1-score: 0.0000\n"
          ]
        }
      ],
      "source": [
        "from sklearn.metrics import accuracy_score, f1_score, precision_score, recall_score, classification_report\n",
        "\n",
        "# Baseline 1: Majority class\n",
        "majority_class = train['label'].mode()[0]\n",
        "majority_predictions = np.full(len(test), majority_class)\n",
        "\n",
        "print(\"Baseline 1: Majority Class Classifier\")\n",
        "print(f\"Predicts always: {majority_class}\")\n",
        "print(f\"Accuracy: {accuracy_score(test['label'], majority_predictions):.4f}\")\n",
        "print(f\"F1-score: {f1_score(test['label'], majority_predictions):.4f}\")\n"
      ]
    },
    {
      "cell_type": "code",
      "execution_count": 36,
      "metadata": {},
      "outputs": [
        {
          "name": "stdout",
          "output_type": "stream",
          "text": [
            "Baseline 2: TF-IDF + Logistic Regression\n",
            "==================================================\n",
            "\n",
            "Vectorizing with TF-IDF...\n",
            "Vectorization time: 27.88s\n",
            "Feature matrix shape: (25000, 10000)\n",
            "\n",
            "Training Logistic Regression...\n",
            "Training time: 0.64s\n",
            "\n",
            "==================================================\n",
            "BASELINE RESULTS\n",
            "==================================================\n",
            "Accuracy:  0.8931\n",
            "Precision: 0.8884\n",
            "Recall:    0.8991\n",
            "F1-score:  0.8937\n",
            "\n",
            "Classification Report:\n",
            "              precision    recall  f1-score   support\n",
            "\n",
            "    Negative       0.90      0.89      0.89     12500\n",
            "    Positive       0.89      0.90      0.89     12500\n",
            "\n",
            "    accuracy                           0.89     25000\n",
            "   macro avg       0.89      0.89      0.89     25000\n",
            "weighted avg       0.89      0.89      0.89     25000\n",
            "\n"
          ]
        }
      ],
      "source": [
        "# Baseline 2: Simple TF-IDF + Logistic Regression\n",
        "from sklearn.feature_extraction.text import TfidfVectorizer\n",
        "from sklearn.linear_model import LogisticRegression\n",
        "from sklearn.metrics import confusion_matrix\n",
        "import time\n",
        "\n",
        "print(\"Baseline 2: TF-IDF + Logistic Regression\")\n",
        "print(\"=\"*50)\n",
        "\n",
        "# Simple preprocessing: lowercase only\n",
        "train_texts = train['text'].str.lower()\n",
        "test_texts = test['text'].str.lower()\n",
        "\n",
        "# TF-IDF vectorization\n",
        "print(\"\\nVectorizing with TF-IDF...\")\n",
        "vectorizer = TfidfVectorizer(\n",
        "    max_features=10000,\n",
        "    ngram_range=(1, 2),\n",
        "    min_df=2,\n",
        "    max_df=0.95\n",
        ")\n",
        "\n",
        "start_time = time.time()\n",
        "X_train = vectorizer.fit_transform(train_texts)\n",
        "X_test = vectorizer.transform(test_texts)\n",
        "vectorization_time = time.time() - start_time\n",
        "print(f\"Vectorization time: {vectorization_time:.2f}s\")\n",
        "print(f\"Feature matrix shape: {X_train.shape}\")\n",
        "\n",
        "# Train model\n",
        "print(\"\\nTraining Logistic Regression...\")\n",
        "start_time = time.time()\n",
        "model = LogisticRegression(max_iter=1000, random_state=42)\n",
        "model.fit(X_train, train['label'])\n",
        "training_time = time.time() - start_time\n",
        "print(f\"Training time: {training_time:.2f}s\")\n",
        "\n",
        "# Predictions\n",
        "y_pred = model.predict(X_test)\n",
        "\n",
        "# Evaluation\n",
        "print(\"\\n\" + \"=\"*50)\n",
        "print(\"BASELINE RESULTS\")\n",
        "print(\"=\"*50)\n",
        "print(f\"Accuracy:  {accuracy_score(test['label'], y_pred):.4f}\")\n",
        "print(f\"Precision: {precision_score(test['label'], y_pred):.4f}\")\n",
        "print(f\"Recall:    {recall_score(test['label'], y_pred):.4f}\")\n",
        "print(f\"F1-score:  {f1_score(test['label'], y_pred):.4f}\")\n",
        "\n",
        "print(\"\\nClassification Report:\")\n",
        "print(classification_report(test['label'], y_pred, target_names=['Negative', 'Positive']))\n"
      ]
    },
    {
      "cell_type": "code",
      "execution_count": 37,
      "metadata": {},
      "outputs": [
        {
          "data": {
            "image/png": "[encoded data removed]",
            "text/plain": [
              "<Figure size 800x600 with 2 Axes>"
            ]
          },
          "metadata": {},
          "output_type": "display_data"
        },
        {
          "name": "stdout",
          "output_type": "stream",
          "text": [
            "True Negatives: 11088\n",
            "False Positives: 1412\n",
            "False Negatives: 1261\n",
            "True Positives: 11239\n"
          ]
        }
      ],
      "source": [
        "# Confusion matrix\n",
        "cm = confusion_matrix(test['label'], y_pred)\n",
        "plt.figure(figsize=(8, 6))\n",
        "sns.heatmap(cm, annot=True, fmt='d', cmap='Blues', xticklabels=['Negative', 'Positive'], yticklabels=['Negative', 'Positive'])\n",
        "plt.title('Confusion Matrix - Baseline Model')\n",
        "plt.ylabel('True Label')\n",
        "plt.xlabel('Predicted Label')\n",
        "plt.savefig('../reports/figures/baseline_confusion_matrix.png', dpi=150, bbox_inches='tight')\n",
        "plt.show()\n",
        "\n",
        "print(f\"True Negatives: {cm[0,0]}\")\n",
        "print(f\"False Positives: {cm[0,1]}\")\n",
        "print(f\"False Negatives: {cm[1,0]}\")\n",
        "print(f\"True Positives: {cm[1,1]}\")\n"
      ]
    },
    {
      "cell_type": "markdown",
      "metadata": {},
      "source": [
        "### Findings - Baseline\n",
        "\n",
        "- Majority baseline: accuracy = 0.5000; F1 = 0.0000\n",
        "- TF-IDF + Logistic Regression: accuracy = 0.8931; F1 = 0.8937; precision = 0.8884; recall = 0.8991\n",
        "- Vectorization time = 27.77s; Training time = 0.69s; Feature matrix shape = (25000, 10000)\n",
        "- Confusion matrix: TN=11088, FP=1412, FN=1261, TP=11239\n",
        "- **SUCCESS THRESHOLD SET**: accuracy ≥ 0.85; F1 ≥ 0.85\n"
      ]
    },
    {
      "cell_type": "markdown",
      "metadata": {},
      "source": [
        "## 4. Freeze Decisions\n",
        "\n",
        "Documentation of choices for industrialization\n",
        "\n",
        "### Documented Decisions\n",
        "\n",
        "#### 1. Main Metrics\n",
        "- **Primary metric**: Accuracy (balanced dataset)\n",
        "- **Secondary metrics**: F1-score, Precision, Recall\n",
        "- **QA metric**: Accuracy ≥ 0.85 (adjust based on baseline)\n",
        "\n",
        "#### 2. Minimal Preprocessing\n",
        "- Lowercase conversion\n",
        "- No stopword removal (TF-IDF handles it with max_df)\n",
        "- No stemming/lemmatization (too expensive for baseline)\n",
        "- HTML tags: verify and clean if present\n",
        "\n",
        "#### 3. Features\n",
        "- **TF-IDF**: max_features=10000, ngram_range=(1,2), min_df=2, max_df=0.95\n",
        "- **LogisticRegression**: max_iter=1000, random_state=42\n",
        "\n",
        "#### 4. Split Strategy\n",
        "- **Split**: Pre-defined by Hugging Face (train/test)\n",
        "- No validation set needed for baseline\n",
        "- **Random seed**: 42 (reproducibility)\n",
        "\n",
        "#### 5. QA Thresholds\n",
        "- **Minimum accuracy**: 0.85\n",
        "- **Minimum F1-score**: 0.85\n",
        "- **No NaN in predictions**\n",
        "- **Training time**: < 5 min on CPU\n",
        "\n",
        "**SUCCESS THRESHOLDS (for Pytest):** accuracy ≥ 0.85 and F1 ≥ 0.85 on test; predictions free of NaN/Inf; inference returns outputs with correct length.\n"
      ]
    },
    {
      "cell_type": "markdown",
      "metadata": {},
      "source": [
        "## 5. Save Deterministic Split\n",
        "\n",
        "To ensure reproducibility\n"
      ]
    },
    {
      "cell_type": "code",
      "execution_count": 38,
      "metadata": {},
      "outputs": [
        {
          "name": "stdout",
          "output_type": "stream",
          "text": [
            "Split info saved to data/split_info.json\n",
            "{\n",
            "  \"train_size\": 25000,\n",
            "  \"test_size\": 25000,\n",
            "  \"train_positive\": 12500,\n",
            "  \"train_negative\": 12500,\n",
            "  \"test_positive\": 12500,\n",
            "  \"test_negative\": 12500,\n",
            "  \"random_seed\": 42,\n",
            "  \"source\": \"huggingface/imdb\"\n",
            "}\n"
          ]
        }
      ],
      "source": [
        "# Already split by Hugging Face, but save metadata for traceability\n",
        "split_info = {\n",
        "    'train_size': int(len(train)),\n",
        "    'test_size': int(len(test)),\n",
        "    'train_positive': int((train['label'] == 1).sum()),\n",
        "    'train_negative': int((train['label'] == 0).sum()),\n",
        "    'test_positive': int((test['label'] == 1).sum()),\n",
        "    'test_negative': int((test['label'] == 0).sum()),\n",
        "    'random_seed': 42,\n",
        "    'source': 'huggingface/imdb'\n",
        "}\n",
        "\n",
        "import json\n",
        "with open('../data/split_info.json', 'w') as f:\n",
        "    json.dump(split_info, f, indent=2)\n",
        "\n",
        "print(\"Split info saved to data/split_info.json\")\n",
        "print(json.dumps(split_info, indent=2))\n"
      ]
    },
    {
      "cell_type": "markdown",
      "metadata": {},
      "source": [
        "Saved split metadata to `data/split_info.json` for reproducibility.\n"
      ]
    },
    {
      "cell_type": "markdown",
      "metadata": {},
      "source": [
        "## 6. Preprocessing Draft\n",
        "\n",
        "Code to reimplement in `mlops_imdb/dataset.py`\n"
      ]
    },
    {
      "cell_type": "code",
      "execution_count": 39,
      "metadata": {},
      "outputs": [
        {
          "name": "stdout",
          "output_type": "stream",
          "text": [
            "Original:\n",
            "I rented I AM CURIOUS-YELLOW from my video store because of all the controversy that surrounded it when it was first released in 1967. I also heard that at first it was seized by U.S. customs if it ever tried to enter this country, therefore being a fan of films considered \"controversial\" I really h\n",
            "\n",
            "Cleaned:\n",
            "i rented i am curious-yellow from my video store because of all the controversy that surrounded it when it was first released in 1967. i also heard that at first it was seized by u.s. customs if it ever tried to enter this country, therefore being a fan of films considered \"controversial\" i really h\n",
            "\n",
            "==================================================\n",
            "PREPROCESSING FUNCTION TO IMPLEMENT:\n",
            "==================================================\n",
            "\n",
            "def preprocess_text(text):\n",
            "    # Lowercase\n",
            "    text = text.lower()\n",
            "\n",
            "    # Remove HTML tags\n",
            "    import re\n",
            "    text = re.sub(r'<.*?>', '', text)\n",
            "\n",
            "    # Remove extra whitespace\n",
            "    text = ' '.join(text.split())\n",
            "\n",
            "    return text\n",
            "\n"
          ]
        }
      ],
      "source": [
        "# Test HTML tag removal\n",
        "import re\n",
        "sample_text = train['text'].iloc[0]\n",
        "print(\"Original:\")\n",
        "print(sample_text[:300])\n",
        "print(\"\\nCleaned:\")\n",
        "cleaned = re.sub(r'<.*?>', '', sample_text.lower())\n",
        "cleaned = ' '.join(cleaned.split())\n",
        "print(cleaned[:300])\n",
        "\n",
        "print(\"\\n\" + \"=\"*50)\n",
        "print(\"PREPROCESSING FUNCTION TO IMPLEMENT:\")\n",
        "print(\"=\"*50)\n",
        "print(\"\"\"\n",
        "def preprocess_text(text):\n",
        "    # Lowercase\n",
        "    text = text.lower()\n",
        "    \n",
        "    # Remove HTML tags\n",
        "    import re\n",
        "    text = re.sub(r'<.*?>', '', text)\n",
        "    \n",
        "    # Remove extra whitespace\n",
        "    text = ' '.join(text.split())\n",
        "    \n",
        "    return text\n",
        "\"\"\")\n"
      ]
    },
    {
      "cell_type": "markdown",
      "metadata": {},
      "source": [
        "**Scope locked for baseline:** lowercase + HTML tag removal + whitespace normalization. No stemming/lemmatization; no stopword list (handled implicitly by TF-IDF + max_df).\n"
      ]
    },
    {
      "cell_type": "markdown",
      "metadata": {},
      "source": [
        "## Notebook Outputs Summary\n",
        "\n",
        "### 1. Data Findings\n",
        "- Balanced dataset (exactly 50%/50% in train and test)\n",
        "- No missing values\n",
        "- HTML tags present in texts → cleaning required\n",
        "- Average text length: mean 1325.07; outliers 7.36%\n",
        "\n",
        "### 2. Baseline Established\n",
        "- Majority baseline: 0.5000 accuracy\n",
        "- TF-IDF+LR: 0.8931 accuracy, 0.8937 F1\n",
        "\n",
        "### 3. Frozen Decisions\n",
        "- **Metrics**: Accuracy (primary), F1/Precision/Recall (secondary)\n",
        "- **QA threshold**: Accuracy ≥ 0.85\n",
        "- **Features**: TF-IDF (max_features=10000, ngrams=1-2)\n",
        "- **Preprocessing**: lowercase + HTML removal + whitespace cleanup\n",
        "- **Random seed**: 42\n",
        "\n",
        "### 4. Generated Files\n",
        "- `reports/figures/label_distribution.png`\n",
        "- `reports/figures/text_length_distribution.png`\n",
        "- `reports/figures/baseline_confusion_matrix.png`\n",
        "- `data/split_info.json`\n",
        "\n",
        "### 5. Next Steps (Industrialization)\n",
        "1. Implement `mlops_imdb/dataset.py` with preprocessing\n",
        "2. Implement `mlops_imdb/features.py` with TF-IDF\n",
        "3. Implement `mlops_imdb/modeling/train.py` with Logistic Regression\n",
        "4. Create `params.yaml` with hyperparameters\n",
        "5. Configure DVC pipeline (`dvc.yaml`)\n",
        "6. Integrate MLflow for tracking\n",
        "7. Write Pytest tests (accuracy ≥ 0.85, no NaN, etc.)\n"
      ]
    },
    {
      "cell_type": "code",
      "execution_count": 40,
      "metadata": {},
      "outputs": [
        {
          "name": "stdout",
          "output_type": "stream",
          "text": [
            "Baseline metrics saved to reports/baseline_metrics.json\n",
            "{\n",
            "  \"vectorization_time_sec\": 27.77,\n",
            "  \"training_time_sec\": 0.69,\n",
            "  \"accuracy\": 0.8931,\n",
            "  \"precision\": 0.8884,\n",
            "  \"recall\": 0.8991,\n",
            "  \"f1\": 0.8937,\n",
            "  \"tn\": 11088,\n",
            "  \"fp\": 1412,\n",
            "  \"fn\": 1261,\n",
            "  \"tp\": 11239,\n",
            "  \"tfidf\": {\n",
            "    \"max_features\": 10000,\n",
            "    \"ngram_range\": [\n",
            "      1,\n",
            "      2\n",
            "    ],\n",
            "    \"min_df\": 2,\n",
            "    \"max_df\": 0.95\n",
            "  },\n",
            "  \"logreg\": {\n",
            "    \"max_iter\": 1000,\n",
            "    \"random_state\": 42\n",
            "  }\n",
            "}\n"
          ]
        }
      ],
      "source": [
        "# Export baseline metrics JSON for Pytest thresholds and report inclusion\n",
        "import json\n",
        "\n",
        "baseline_metrics = {\n",
        "    'vectorization_time_sec': 27.77,\n",
        "    'training_time_sec': 0.69,\n",
        "    'accuracy': 0.8931,\n",
        "    'precision': 0.8884,\n",
        "    'recall': 0.8991,\n",
        "    'f1': 0.8937,\n",
        "    'tn': 11088,\n",
        "    'fp': 1412,\n",
        "    'fn': 1261,\n",
        "    'tp': 11239,\n",
        "    'tfidf': {\n",
        "        'max_features': 10000,\n",
        "        'ngram_range': [1, 2],\n",
        "        'min_df': 2,\n",
        "        'max_df': 0.95\n",
        "    },\n",
        "    'logreg': {\n",
        "        'max_iter': 1000,\n",
        "        'random_state': 42\n",
        "    }\n",
        "}\n",
        "\n",
        "with open('../reports/baseline_metrics.json', 'w') as f:\n",
        "    json.dump(baseline_metrics, f, indent=2)\n",
        "\n",
        "print(\"Baseline metrics saved to reports/baseline_metrics.json\")\n",
        "print(json.dumps(baseline_metrics, indent=2))\n"
      ]
    },
    {
      "cell_type": "markdown",
      "metadata": {},
      "source": [
        "## Decisions for Pipeline\n",
        "\n",
        "- **Data policy:** keep exact duplicates for now; revisit during pipeline.\n",
        "- **Fixed params for first pipeline run:** TF-IDF and Logistic Regression as in this notebook.\n",
        "- **QA thresholds to encode in Pytest:** accuracy ≥ 0.85; F1 ≥ 0.85; shape and NaN checks; text-robustness check via token replacement.\n",
        "- **Figures saved under** `reports/figures`; **metrics JSON under** `reports/baseline_metrics.json`; **split metadata under** `data/split_info.json`.\n"
      ]
    },
    {
      "cell_type": "markdown",
      "metadata": {},
      "source": [
        "## Copy into Report (Milestone-3)\n",
        "\n",
        "**Dataset integrity:** 25,000 train samples and 25,000 test samples; no missing values; 96 duplicates in train, 199 in test (policy: retain for baseline). **Distribution:** perfectly balanced (50%/50%); mean text length 1325.07 characters; 7.36% outliers by IQR rule. **Baselines:** majority classifier achieves 0.5000 accuracy; TF-IDF (10K features, bigrams) + Logistic Regression achieves 0.8931 accuracy and 0.8937 F1-score on test set. **Frozen decisions:** accuracy ≥ 0.85 and F1 ≥ 0.85 as QA thresholds; preprocessing limited to lowercase + HTML tag removal + whitespace normalization; random seed 42. **Generated artifacts:** `reports/figures/label_distribution.png`, `reports/figures/text_length_distribution.png`, `reports/figures/baseline_confusion_matrix.png`, `reports/baseline_metrics.json`, `data/split_info.json`.\n"
      ]
    }
  ],
  "metadata": {
    "kernelspec": {
      "display_name": ".venv",
      "language": "python",
      "name": "python3"
    },
    "language_info": {
      "codemirror_mode": {
        "name": "ipython",
        "version": 3
      },
      "file_extension": ".py",
      "mimetype": "text/x-python",
      "name": "python",
      "nbconvert_exporter": "python",
      "pygments_lexer": "ipython3",
      "version": "3.12.2"
    }
  },
  "nbformat": 4,
  "nbformat_minor": 2
}
